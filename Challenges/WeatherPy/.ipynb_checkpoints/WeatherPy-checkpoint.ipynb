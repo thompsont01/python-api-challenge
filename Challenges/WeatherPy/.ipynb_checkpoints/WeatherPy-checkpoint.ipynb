{
 "cells": [
  {
   "cell_type": "markdown",
   "metadata": {},
   "source": [
    "Observation:\n",
    "\n",
    "The first observation I can draw from this data is that in the southern hemisphere, as the latitude increases, the temperature increases as well. \n",
    "\n",
    "Another observation I can make is that as the latitude increases, the humidity barely changes for both the northern and southern hemispheres.\n",
    "\n",
    "One last observation I can make is that when the latitude is closer to 0, the temperature is hotter. From this information, I can conclude that the equator is hot."
   ]
  },
  {
   "cell_type": "markdown",
   "metadata": {},
   "source": [
    "# WeatherPy\n",
    "----\n",
    "\n",
    "#### Note\n",
    "* Instructions have been included for each segment. You do not have to follow them exactly, but they are included to help you think through the steps."
   ]
  },
  {
   "cell_type": "code",
   "execution_count": 1,
   "metadata": {
    "scrolled": true
   },
   "outputs": [],
   "source": [
    "# Dependencies and Setup\n",
    "import json\n",
    "import matplotlib.pyplot as plt\n",
    "import pandas as pd\n",
    "import numpy as np\n",
    "import requests\n",
    "import time\n",
    "import scipy.stats as st\n",
    "from scipy.stats import linregress\n",
    "\n",
    "# Import API key\n",
    "from api_keys import weather_api_key\n",
    "\n",
    "# Incorporated citipy to determine city based on latitude and longitude\n",
    "from citipy import citipy\n",
    "\n",
    "# Output File (CSV)\n",
    "output_data_file = \"output_data/cities.csv\"\n",
    "\n",
    "# Range of latitudes and longitudes\n",
    "lat_range = (-90, 90)\n",
    "lng_range = (-180, 180)"
   ]
  },
  {
   "cell_type": "markdown",
   "metadata": {},
   "source": [
    "## Generate Cities List"
   ]
  },
  {
   "cell_type": "code",
   "execution_count": 2,
   "metadata": {},
   "outputs": [
    {
     "data": {
      "text/plain": [
       "622"
      ]
     },
     "execution_count": 2,
     "metadata": {},
     "output_type": "execute_result"
    }
   ],
   "source": [
    "# List for holding lat_lngs and cities\n",
    "lat_lngs = []\n",
    "cities = []\n",
    "\n",
    "# Create a set of random lat and lng combinations\n",
    "lats = np.random.uniform(lat_range[0], lat_range[1], size=1500) #1500\n",
    "lngs = np.random.uniform(lng_range[0], lng_range[1], size=1500) #1500\n",
    "lat_lngs = zip(lats, lngs)\n",
    "\n",
    "# Identify nearest city for each lat, lng combination\n",
    "for lat_lng in lat_lngs:\n",
    "    city = citipy.nearest_city(lat_lng[0], lat_lng[1]).city_name\n",
    "    \n",
    "    # If the city is unique, then add it to a our cities list\n",
    "    if city not in cities:\n",
    "        cities.append(city)\n",
    "\n",
    "# Print the city count to confirm sufficient count\n",
    "len(cities)"
   ]
  },
  {
   "cell_type": "markdown",
   "metadata": {},
   "source": [
    "### Perform API Calls\n",
    "* Perform a weather check on each city using a series of successive API calls.\n",
    "* Include a print log of each city as it'sbeing processed (with the city number and city name).\n"
   ]
  },
  {
   "cell_type": "code",
   "execution_count": 3,
   "metadata": {},
   "outputs": [
    {
     "name": "stdout",
     "output_type": "stream",
     "text": [
      "Beginning Data Retrieval\n",
      "-----------------------------\n",
      "Processing Record 1 of Set 1| amderma\n",
      "Processing Record 2 of Set 1| narsaq\n",
      "Processing Record 3 of Set 1| vaini\n",
      "Processing Record 4 of Set 1| mataura\n",
      "Processing Record 5 of Set 1| marshfield\n",
      "Processing Record 6 of Set 1| macheng\n",
      "Processing Record 7 of Set 1| hobart\n",
      "Processing Record 8 of Set 1| acari\n",
      "Processing Record 9 of Set 1| cape town\n",
      "Processing Record 10 of Set 1| punta arenas\n",
      "Processing Record 11 of Set 1| busselton\n",
      "Processing Record 12 of Set 1| mount gambier\n",
      "Processing Record 13 of Set 1| leningradskiy\n",
      "Processing Record 14 of Set 1| lolua\n",
      "Processing Record 15 of Set 1| fengrun\n",
      "Processing Record 16 of Set 1| cidreira\n",
      "Processing Record 17 of Set 1| chulumani\n",
      "Processing Record 18 of Set 1| hilo\n",
      "Processing Record 19 of Set 1| khatanga\n",
      "Processing Record 20 of Set 1| ilulissat\n",
      "Processing Record 21 of Set 1| saldanha\n",
      "Processing Record 22 of Set 1| dingle\n",
      "Processing Record 23 of Set 1| riaba\n",
      "Processing Record 24 of Set 1| avarua\n",
      "Processing Record 25 of Set 1| saleaula\n",
      "Processing Record 26 of Set 1| marawi\n",
      "Processing Record 27 of Set 1| inyonga\n",
      "Processing Record 28 of Set 1| san felipe\n",
      "Processing Record 29 of Set 1| pidhorodne\n",
      "Processing Record 30 of Set 1| illoqqortoormiut\n",
      "Processing Record 31 of Set 1| tsaratanana\n",
      "Processing Record 32 of Set 1| ambilobe\n",
      "Processing Record 33 of Set 1| uttaradit\n",
      "Processing Record 34 of Set 1| caravelas\n",
      "Processing Record 35 of Set 1| curup\n",
      "Processing Record 36 of Set 1| tyrma\n",
      "Processing Record 37 of Set 1| east london\n",
      "Processing Record 38 of Set 1| constitucion\n",
      "Processing Record 39 of Set 1| tura\n",
      "Processing Record 40 of Set 1| buin\n",
      "Processing Record 41 of Set 1| karkaralinsk\n",
      "Processing Record 42 of Set 1| taolanaro\n",
      "Processing Record 43 of Set 1| portland\n",
      "Processing Record 44 of Set 1| lebu\n",
      "Processing Record 45 of Set 1| kruisfontein\n",
      "Processing Record 46 of Set 1| rikitea\n",
      "Processing Record 47 of Set 1| new norfolk\n",
      "Processing Record 48 of Set 1| thompson\n",
      "Processing Record 49 of Set 1| te anau\n",
      "Processing Record 50 of Set 1| kapaa\n",
      "Processing Record 51 of Set 1| fairbanks\n",
      "Processing Record 52 of Set 1| yumen\n",
      "Processing Record 53 of Set 1| tuatapere\n",
      "Processing Record 54 of Set 1| kodiak\n",
      "Processing Record 55 of Set 1| namibe\n",
      "Processing Record 56 of Set 1| ushuaia\n",
      "Processing Record 57 of Set 1| tasiilaq\n",
      "Processing Record 58 of Set 1| arkadak\n",
      "Processing Record 59 of Set 1| roald\n",
      "Processing Record 60 of Set 1| kahului\n",
      "Processing Record 61 of Set 1| sentyabrskiy\n",
      "Processing Record 62 of Set 1| nikolskoye\n",
      "Processing Record 63 of Set 1| thunder bay\n",
      "Processing Record 64 of Set 1| camacha\n",
      "Processing Record 65 of Set 1| smithers\n",
      "Processing Record 66 of Set 1| forestville\n",
      "Processing Record 67 of Set 1| apac\n",
      "Processing Record 68 of Set 1| zhitikara\n",
      "Processing Record 69 of Set 1| carutapera\n",
      "Processing Record 70 of Set 1| kaitangata\n",
      "Processing Record 71 of Set 1| yulara\n",
      "Processing Record 72 of Set 1| morgan city\n",
      "Processing Record 73 of Set 1| marzuq\n",
      "Processing Record 74 of Set 1| antalaha\n",
      "Processing Record 75 of Set 1| jamestown\n",
      "Processing Record 76 of Set 1| tabuk\n",
      "Processing Record 77 of Set 1| kungurtug\n",
      "Processing Record 78 of Set 1| raga\n",
      "Processing Record 79 of Set 1| bar harbor\n",
      "Processing Record 80 of Set 1| fairmont\n",
      "Processing Record 81 of Set 1| georgetown\n",
      "Processing Record 82 of Set 1| tiksi\n",
      "Processing Record 83 of Set 1| vila franca do campo\n",
      "Processing Record 84 of Set 1| nelson bay\n",
      "Processing Record 85 of Set 1| kautokeino\n",
      "Processing Record 86 of Set 1| ji-parana\n",
      "Processing Record 87 of Set 1| olga\n",
      "Processing Record 88 of Set 1| albany\n",
      "Processing Record 89 of Set 1| alofi\n",
      "Processing Record 90 of Set 1| kamenskoye\n",
      "Processing Record 91 of Set 1| baie-comeau\n",
      "Processing Record 92 of Set 1| avera\n",
      "Processing Record 93 of Set 1| victoria\n",
      "Processing Record 94 of Set 1| chokurdakh\n",
      "Processing Record 95 of Set 1| atuona\n",
      "Processing Record 96 of Set 1| kiyasovo\n",
      "Processing Record 97 of Set 1| stornoway\n",
      "Processing Record 98 of Set 1| palabuhanratu\n",
      "Processing Record 99 of Set 1| new ulm\n",
      "Processing Record 100 of Set 1| saskylakh\n",
      "Processing Record 101 of Set 1| icatu\n",
      "Processing Record 102 of Set 1| havre-saint-pierre\n",
      "Processing Record 103 of Set 1| aripuana\n",
      "Processing Record 104 of Set 1| belushya guba\n",
      "Processing Record 105 of Set 1| barentsburg\n",
      "Processing Record 106 of Set 1| bambous virieux\n",
      "Processing Record 107 of Set 1| tual\n",
      "Processing Record 108 of Set 1| belaya gora\n",
      "Processing Record 109 of Set 1| lompoc\n",
      "Processing Record 110 of Set 1| montevideo\n",
      "Processing Record 111 of Set 1| yellowknife\n",
      "Processing Record 112 of Set 1| beloha\n",
      "Processing Record 113 of Set 1| bluff\n",
      "Processing Record 114 of Set 1| tilichiki\n",
      "Processing Record 115 of Set 1| port alfred\n",
      "Processing Record 116 of Set 1| bengkulu\n",
      "Processing Record 117 of Set 1| longyearbyen\n",
      "Processing Record 118 of Set 1| lishui\n",
      "Processing Record 119 of Set 1| gwadar\n",
      "Processing Record 120 of Set 1| bilma\n",
      "Processing Record 121 of Set 1| portsmouth\n",
      "Processing Record 122 of Set 1| adrar\n",
      "Processing Record 123 of Set 1| mahebourg\n",
      "Processing Record 124 of Set 1| shimoda\n",
      "Processing Record 125 of Set 1| murud\n",
      "Processing Record 126 of Set 1| inhambane\n",
      "Processing Record 127 of Set 1| tuktoyaktuk\n",
      "Processing Record 128 of Set 1| falealupo\n",
      "Processing Record 129 of Set 1| sao joao da barra\n",
      "Processing Record 130 of Set 1| lumeje\n",
      "Processing Record 131 of Set 1| ribeira grande\n",
      "Processing Record 132 of Set 1| vrangel\n",
      "Processing Record 133 of Set 1| svetlogorsk\n",
      "Processing Record 134 of Set 1| katsuura\n",
      "Processing Record 135 of Set 1| quatre cocos\n",
      "Processing Record 136 of Set 1| oistins\n",
      "Processing Record 137 of Set 1| salalah\n",
      "Processing Record 138 of Set 1| palmer\n",
      "Processing Record 139 of Set 1| sola\n",
      "Processing Record 140 of Set 1| castro\n",
      "Processing Record 141 of Set 1| yingshang\n",
      "Processing Record 142 of Set 1| aguadilla\n",
      "Processing Record 143 of Set 1| puerto colombia\n",
      "Processing Record 144 of Set 1| soria\n",
      "Processing Record 145 of Set 1| asbe teferi\n",
      "Processing Record 146 of Set 1| waipawa\n",
      "Processing Record 147 of Set 1| isangel\n",
      "Processing Record 148 of Set 1| anderson\n",
      "Processing Record 149 of Set 1| hermanus\n",
      "Processing Record 150 of Set 1| carnarvon\n",
      "Processing Record 151 of Set 1| marcona\n",
      "Processing Record 152 of Set 1| hambantota\n",
      "Processing Record 153 of Set 1| mullaitivu\n",
      "Processing Record 154 of Set 1| lushunkou\n",
      "Processing Record 155 of Set 1| port blair\n",
      "Processing Record 156 of Set 1| sitka\n",
      "Processing Record 157 of Set 1| ponta do sol\n",
      "Processing Record 158 of Set 1| geraldton\n",
      "Processing Record 159 of Set 1| biak\n",
      "Processing Record 160 of Set 1| chuy\n",
      "Processing Record 161 of Set 1| comodoro rivadavia\n",
      "Processing Record 162 of Set 1| mys shmidta\n",
      "Processing Record 163 of Set 1| puerto ayora\n",
      "Processing Record 164 of Set 1| nemuro\n",
      "Processing Record 165 of Set 1| nizhniy kuranakh\n",
      "Processing Record 166 of Set 1| paamiut\n",
      "Processing Record 167 of Set 1| santa fe\n",
      "Processing Record 168 of Set 1| tupanatinga\n",
      "Processing Record 169 of Set 1| one hundred mile house\n",
      "Processing Record 170 of Set 1| qaanaaq\n",
      "Processing Record 171 of Set 1| paka\n",
      "Processing Record 172 of Set 1| noumea\n",
      "Processing Record 173 of Set 1| coihaique\n",
      "Processing Record 174 of Set 1| butaritari\n",
      "Processing Record 175 of Set 1| sorland\n",
      "Processing Record 176 of Set 1| boa vista\n",
      "Processing Record 177 of Set 1| bethel\n",
      "Processing Record 178 of Set 1| hay river\n",
      "Processing Record 179 of Set 1| axim\n",
      "Processing Record 180 of Set 1| vestmannaeyjar\n",
      "Processing Record 181 of Set 1| barrow\n",
      "Processing Record 182 of Set 1| vagur\n",
      "Processing Record 183 of Set 1| antsohihy\n",
      "Processing Record 184 of Set 1| leshukonskoye\n",
      "Processing Record 185 of Set 1| yongan\n",
      "Processing Record 186 of Set 1| kavieng\n",
      "Processing Record 187 of Set 1| bredasdorp\n",
      "Processing Record 188 of Set 1| flin flon\n",
      "Processing Record 189 of Set 1| thanh hoa\n",
      "Processing Record 190 of Set 1| saint-philippe\n",
      "Processing Record 191 of Set 1| goderich\n",
      "Processing Record 192 of Set 1| kambove\n",
      "Processing Record 193 of Set 1| iqaluit\n",
      "Processing Record 194 of Set 1| taranagar\n",
      "Processing Record 195 of Set 1| tramore\n",
      "Processing Record 196 of Set 1| karaidel\n",
      "Processing Record 197 of Set 1| troitsko-pechorsk\n",
      "Processing Record 198 of Set 1| gao\n",
      "Processing Record 199 of Set 1| mar del plata\n"
     ]
    },
    {
     "name": "stdout",
     "output_type": "stream",
     "text": [
      "Processing Record 200 of Set 1| skalistyy\n",
      "Processing Record 201 of Set 1| clyde river\n",
      "Processing Record 202 of Set 1| sibolga\n",
      "Processing Record 203 of Set 1| vila velha\n",
      "Processing Record 204 of Set 1| rosarito\n",
      "Processing Record 205 of Set 1| teknaf\n",
      "Processing Record 206 of Set 1| garowe\n",
      "Processing Record 207 of Set 1| bargal\n",
      "Processing Record 208 of Set 1| pacific grove\n",
      "Processing Record 209 of Set 1| vardo\n",
      "Processing Record 210 of Set 1| buala\n",
      "Processing Record 211 of Set 1| bac lieu\n",
      "Processing Record 212 of Set 1| henties bay\n",
      "Processing Record 213 of Set 1| lazaro cardenas\n",
      "Processing Record 214 of Set 1| ngukurr\n",
      "Processing Record 215 of Set 1| cooma\n",
      "Processing Record 216 of Set 1| bilibino\n",
      "Processing Record 217 of Set 1| jinchang\n",
      "Processing Record 218 of Set 1| chara\n",
      "Processing Record 219 of Set 1| hofn\n",
      "Processing Record 220 of Set 1| beira\n",
      "Processing Record 221 of Set 1| arraial do cabo\n",
      "Processing Record 222 of Set 1| grand river south east\n",
      "Processing Record 223 of Set 1| xifeng\n",
      "Processing Record 224 of Set 1| moerai\n",
      "Processing Record 225 of Set 1| viedma\n",
      "Processing Record 226 of Set 1| dikson\n",
      "Processing Record 227 of Set 1| bukoba\n",
      "Processing Record 228 of Set 1| boca do acre\n",
      "Processing Record 229 of Set 1| guerrero negro\n",
      "Processing Record 230 of Set 1| broken hill\n",
      "Processing Record 231 of Set 1| hithadhoo\n",
      "Processing Record 232 of Set 1| la asuncion\n",
      "Processing Record 233 of Set 1| viligili\n",
      "Processing Record 234 of Set 1| felidhoo\n",
      "Processing Record 235 of Set 1| necochea\n",
      "Processing Record 236 of Set 1| campbellton\n",
      "Processing Record 237 of Set 1| shaunavon\n",
      "Processing Record 238 of Set 1| huarmey\n",
      "Processing Record 239 of Set 1| bryan\n",
      "Processing Record 240 of Set 1| aranos\n",
      "Processing Record 241 of Set 1| bontang\n",
      "Processing Record 242 of Set 1| port elizabeth\n",
      "Processing Record 243 of Set 1| trat\n",
      "Processing Record 244 of Set 1| torbay\n",
      "Processing Record 245 of Set 1| kalmunai\n",
      "Processing Record 246 of Set 1| esperance\n",
      "Processing Record 247 of Set 1| port lincoln\n",
      "Processing Record 248 of Set 1| upernavik\n",
      "Processing Record 249 of Set 1| tautira\n",
      "Processing Record 250 of Set 1| kysyl-syr\n",
      "Processing Record 251 of Set 1| deputatskiy\n",
      "Processing Record 252 of Set 1| manokwari\n",
      "Processing Record 253 of Set 1| bardiyah\n",
      "Processing Record 254 of Set 1| shubarkuduk\n",
      "Processing Record 255 of Set 1| george\n",
      "Processing Record 256 of Set 1| khao yoi\n",
      "Processing Record 257 of Set 1| kloulklubed\n",
      "Processing Record 258 of Set 1| san jeronimo\n",
      "Processing Record 259 of Set 1| beitbridge\n",
      "Processing Record 260 of Set 1| nizhneyansk\n",
      "Processing Record 261 of Set 1| cherskiy\n",
      "Processing Record 262 of Set 1| airai\n",
      "Processing Record 263 of Set 1| kuche\n",
      "Processing Record 264 of Set 1| fagersta\n",
      "Processing Record 265 of Set 1| correntina\n",
      "Processing Record 266 of Set 1| kandrian\n",
      "Processing Record 267 of Set 1| kununurra\n",
      "Processing Record 268 of Set 1| hasaki\n",
      "Processing Record 269 of Set 1| fukue\n",
      "Processing Record 270 of Set 1| cheuskiny\n",
      "Processing Record 271 of Set 1| faanui\n",
      "Processing Record 272 of Set 1| neryungri\n",
      "Processing Record 273 of Set 1| yar-sale\n",
      "Processing Record 274 of Set 1| cabo san lucas\n",
      "Processing Record 275 of Set 1| ereymentau\n",
      "Processing Record 276 of Set 1| shelburne\n",
      "Processing Record 277 of Set 1| makakilo city\n",
      "Processing Record 278 of Set 1| la ronge\n",
      "Processing Record 279 of Set 1| praya\n",
      "Processing Record 280 of Set 1| minchinabad\n",
      "Processing Record 281 of Set 1| uruzgan\n",
      "Processing Record 282 of Set 1| beysehir\n",
      "Processing Record 283 of Set 1| kibaya\n",
      "Processing Record 284 of Set 1| puertollano\n",
      "Processing Record 285 of Set 1| truro\n",
      "Processing Record 286 of Set 1| ostrovnoy\n",
      "Processing Record 287 of Set 1| galgani\n",
      "Processing Record 288 of Set 1| desaguadero\n",
      "Processing Record 289 of Set 1| issenye\n",
      "Processing Record 290 of Set 1| hobyo\n",
      "Processing Record 291 of Set 1| roebourne\n",
      "Processing Record 292 of Set 1| dingzhou\n",
      "Processing Record 293 of Set 1| alakurtti\n",
      "Processing Record 294 of Set 1| evans\n",
      "Processing Record 295 of Set 1| kaberamaido\n",
      "Processing Record 296 of Set 1| glendive\n",
      "Processing Record 297 of Set 1| north bend\n",
      "Processing Record 298 of Set 1| hamilton\n",
      "Processing Record 299 of Set 1| holme\n",
      "Processing Record 300 of Set 1| port said\n",
      "Processing Record 301 of Set 1| lagoa\n",
      "Processing Record 302 of Set 1| tsihombe\n",
      "Processing Record 303 of Set 1| port shepstone\n",
      "Processing Record 304 of Set 1| saint anthony\n",
      "Processing Record 305 of Set 1| amapa\n",
      "Processing Record 306 of Set 1| matay\n",
      "Processing Record 307 of Set 1| rio grande\n",
      "Processing Record 308 of Set 1| taoudenni\n",
      "Processing Record 309 of Set 1| sur\n",
      "Processing Record 310 of Set 1| ewa beach\n",
      "Processing Record 311 of Set 1| pevek\n",
      "Processing Record 312 of Set 1| port hawkesbury\n",
      "Processing Record 313 of Set 1| tolmezzo\n",
      "Processing Record 314 of Set 1| port hardy\n",
      "Processing Record 315 of Set 1| komsomolskiy\n",
      "Processing Record 316 of Set 1| yatou\n",
      "Processing Record 317 of Set 1| corner brook\n",
      "Processing Record 318 of Set 1| jiaocheng\n",
      "Processing Record 319 of Set 1| west wendover\n",
      "Processing Record 320 of Set 1| norman wells\n",
      "Processing Record 321 of Set 1| kosino\n",
      "Processing Record 322 of Set 1| malwan\n",
      "Processing Record 323 of Set 1| harer\n",
      "Processing Record 324 of Set 1| alexandria\n",
      "Processing Record 325 of Set 1| sinnamary\n",
      "Processing Record 326 of Set 1| kaeo\n",
      "Processing Record 327 of Set 1| erzin\n",
      "Processing Record 328 of Set 1| birjand\n",
      "Processing Record 329 of Set 1| okha\n",
      "Processing Record 330 of Set 1| santiago del estero\n",
      "Processing Record 331 of Set 1| acarau\n",
      "Processing Record 332 of Set 1| bentiu\n",
      "Processing Record 333 of Set 1| olinda\n",
      "Processing Record 334 of Set 1| lorengau\n",
      "Processing Record 335 of Set 1| saint-louis\n",
      "Processing Record 336 of Set 1| saint george\n",
      "Processing Record 337 of Set 1| soyo\n",
      "Processing Record 338 of Set 1| tiznit\n",
      "Processing Record 339 of Set 1| ahipara\n",
      "Processing Record 340 of Set 1| bella union\n",
      "Processing Record 341 of Set 1| ndola\n",
      "Processing Record 342 of Set 1| zasheyek\n",
      "Processing Record 343 of Set 1| kuantan\n",
      "Processing Record 344 of Set 1| uglegorsk\n",
      "Processing Record 345 of Set 1| lata\n",
      "Processing Record 346 of Set 1| rokytne\n",
      "Processing Record 347 of Set 1| breves\n",
      "Processing Record 348 of Set 1| lyngseidet\n",
      "Processing Record 349 of Set 1| cabedelo\n",
      "Processing Record 350 of Set 1| pangody\n",
      "Processing Record 351 of Set 1| ocos\n",
      "Processing Record 352 of Set 1| avila\n",
      "Processing Record 353 of Set 1| kualakapuas\n",
      "Processing Record 354 of Set 1| mortka\n",
      "Processing Record 355 of Set 1| champerico\n",
      "Processing Record 356 of Set 1| nogliki\n",
      "Processing Record 357 of Set 1| samut prakan\n",
      "Processing Record 358 of Set 1| attawapiskat\n",
      "Processing Record 359 of Set 1| wicklow\n",
      "Processing Record 360 of Set 1| kiruna\n",
      "Processing Record 361 of Set 1| teguldet\n",
      "Processing Record 362 of Set 1| denpasar\n",
      "Processing Record 363 of Set 1| ajaccio\n",
      "Processing Record 364 of Set 1| buckeye\n",
      "Processing Record 365 of Set 1| zalantun\n",
      "Processing Record 366 of Set 1| souillac\n",
      "Processing Record 367 of Set 1| chemax\n",
      "Processing Record 368 of Set 1| kirakira\n",
      "Processing Record 369 of Set 1| qandala\n",
      "Processing Record 370 of Set 1| conway\n",
      "Processing Record 371 of Set 1| bonthe\n",
      "Processing Record 372 of Set 1| el real de santa maria\n",
      "Processing Record 373 of Set 1| lasa\n",
      "Processing Record 374 of Set 1| lumphat\n",
      "Processing Record 375 of Set 1| finnsnes\n",
      "Processing Record 376 of Set 1| kadykchan\n",
      "Processing Record 377 of Set 1| wajima\n",
      "Processing Record 378 of Set 1| umm durman\n",
      "Processing Record 379 of Set 1| shiraz\n",
      "Processing Record 380 of Set 1| bara\n",
      "Processing Record 381 of Set 1| along\n",
      "Processing Record 382 of Set 1| montorio al vomano\n",
      "Processing Record 383 of Set 1| kedrovyy\n",
      "Processing Record 384 of Set 1| espanola\n",
      "Processing Record 385 of Set 1| kavaratti\n",
      "Processing Record 386 of Set 1| mangaluru\n",
      "Processing Record 387 of Set 1| san quintin\n",
      "Processing Record 388 of Set 1| codrington\n",
      "Processing Record 389 of Set 1| ostersund\n",
      "Processing Record 390 of Set 1| ponta delgada\n",
      "Processing Record 391 of Set 1| maloshuyka\n",
      "Processing Record 392 of Set 1| wulanhaote\n",
      "Processing Record 393 of Set 1| merauke\n",
      "Processing Record 394 of Set 1| wieliczka\n",
      "Processing Record 395 of Set 1| angoche\n",
      "Processing Record 396 of Set 1| preobrazheniye\n",
      "Processing Record 397 of Set 1| karagay\n",
      "Processing Record 398 of Set 1| bathsheba\n"
     ]
    },
    {
     "name": "stdout",
     "output_type": "stream",
     "text": [
      "Processing Record 399 of Set 1| qeshm\n",
      "Processing Record 400 of Set 1| inirida\n",
      "Processing Record 401 of Set 1| kasongo\n",
      "Processing Record 402 of Set 1| pospelikha\n",
      "Processing Record 403 of Set 1| high prairie\n",
      "Processing Record 404 of Set 1| pulandian\n",
      "Processing Record 405 of Set 1| goure\n",
      "Processing Record 406 of Set 1| eureka\n",
      "Processing Record 407 of Set 1| ancud\n",
      "Processing Record 408 of Set 1| touros\n",
      "Processing Record 409 of Set 1| kholmskaya\n",
      "Processing Record 410 of Set 1| kenai\n",
      "Processing Record 411 of Set 1| cuencame\n",
      "Processing Record 412 of Set 1| port-gentil\n",
      "Processing Record 413 of Set 1| boende\n",
      "Processing Record 414 of Set 1| poum\n",
      "Processing Record 415 of Set 1| honiara\n",
      "Processing Record 416 of Set 1| ciudad bolivar\n",
      "Processing Record 417 of Set 1| tunduru\n",
      "Processing Record 418 of Set 1| ixtapa\n",
      "Processing Record 419 of Set 1| lufilufi\n",
      "Processing Record 420 of Set 1| olafsvik\n",
      "Processing Record 421 of Set 1| hualmay\n",
      "Processing Record 422 of Set 1| methoni\n",
      "Processing Record 423 of Set 1| acapulco\n",
      "Processing Record 424 of Set 1| saint pete beach\n",
      "Processing Record 425 of Set 1| richards bay\n",
      "Processing Record 426 of Set 1| klaksvik\n",
      "Processing Record 427 of Set 1| nicoya\n",
      "Processing Record 428 of Set 1| lodwar\n",
      "Processing Record 429 of Set 1| abhar\n",
      "Processing Record 430 of Set 1| kutum\n",
      "Processing Record 431 of Set 1| hami\n",
      "Processing Record 432 of Set 1| phan rang\n",
      "Processing Record 433 of Set 1| salmo\n",
      "Processing Record 434 of Set 1| bandarbeyla\n",
      "Processing Record 435 of Set 1| wahran\n",
      "Processing Record 436 of Set 1| karamay\n",
      "Processing Record 437 of Set 1| moron\n",
      "Processing Record 438 of Set 1| le port\n",
      "Processing Record 439 of Set 1| prado\n",
      "Processing Record 440 of Set 1| gorno-chuyskiy\n",
      "Processing Record 441 of Set 1| calamar\n",
      "Processing Record 442 of Set 1| warqla\n",
      "Processing Record 443 of Set 1| veseloyarsk\n",
      "Processing Record 444 of Set 1| srednekolymsk\n",
      "Processing Record 445 of Set 1| padang\n",
      "Processing Record 446 of Set 1| kupino\n",
      "Processing Record 447 of Set 1| rawson\n",
      "Processing Record 448 of Set 1| salinopolis\n",
      "Processing Record 449 of Set 1| grand centre\n",
      "Processing Record 450 of Set 1| trairi\n",
      "Processing Record 451 of Set 1| bafoulabe\n",
      "Processing Record 452 of Set 1| hadejia\n",
      "Processing Record 453 of Set 1| alpinopolis\n",
      "Processing Record 454 of Set 1| jibuti\n",
      "Processing Record 455 of Set 1| fortuna\n",
      "Processing Record 456 of Set 1| beringovskiy\n",
      "Processing Record 457 of Set 1| basco\n",
      "Processing Record 458 of Set 1| zabinka\n",
      "Processing Record 459 of Set 1| puerto ayacucho\n",
      "Processing Record 460 of Set 1| buka\n",
      "Processing Record 461 of Set 1| sun city west\n",
      "Processing Record 462 of Set 1| naze\n",
      "Processing Record 463 of Set 1| aden\n",
      "Processing Record 464 of Set 1| portmore\n",
      "Processing Record 465 of Set 1| canutama\n",
      "Processing Record 466 of Set 1| evensk\n",
      "Processing Record 467 of Set 1| santokhgarh\n",
      "Processing Record 468 of Set 1| rach gia\n",
      "Processing Record 469 of Set 1| dashitou\n",
      "Processing Record 470 of Set 1| bonfim\n",
      "Processing Record 471 of Set 1| dwarka\n",
      "Processing Record 472 of Set 1| tazovskiy\n",
      "Processing Record 473 of Set 1| sri aman\n",
      "Processing Record 474 of Set 1| lavrentiya\n",
      "Processing Record 475 of Set 1| parakai\n",
      "Processing Record 476 of Set 1| san patricio\n",
      "Processing Record 477 of Set 1| san cristobal\n",
      "Processing Record 478 of Set 1| jiangyou\n",
      "Processing Record 479 of Set 1| cabra\n",
      "Processing Record 480 of Set 1| svetlyy\n",
      "Processing Record 481 of Set 1| maragogi\n",
      "Processing Record 482 of Set 1| port macquarie\n",
      "Processing Record 483 of Set 1| arman\n",
      "Processing Record 484 of Set 1| vao\n",
      "Processing Record 485 of Set 1| hibbing\n",
      "Processing Record 486 of Set 1| grand gaube\n",
      "Processing Record 487 of Set 1| pochutla\n",
      "Processing Record 488 of Set 1| puerto baquerizo moreno\n",
      "Processing Record 489 of Set 1| cascais\n",
      "Processing Record 490 of Set 1| berdigestyakh\n",
      "Processing Record 491 of Set 1| omsukchan\n",
      "Processing Record 492 of Set 1| cap-aux-meules\n",
      "Processing Record 493 of Set 1| bahadurganj\n",
      "Processing Record 494 of Set 1| boralday\n",
      "Processing Record 495 of Set 1| torata\n",
      "Processing Record 496 of Set 1| hastings\n",
      "Processing Record 497 of Set 1| yarada\n",
      "Processing Record 498 of Set 1| whitehorse\n",
      "Processing Record 499 of Set 1| maniitsoq\n",
      "Processing Record 500 of Set 1| fort nelson\n",
      "Processing Record 501 of Set 1| asheville\n",
      "Processing Record 502 of Set 1| san luis\n",
      "Processing Record 503 of Set 1| sedlcany\n",
      "Processing Record 504 of Set 1| kavant\n",
      "Processing Record 505 of Set 1| tuy hoa\n",
      "Processing Record 506 of Set 1| amasya\n",
      "Processing Record 507 of Set 1| fujin\n",
      "Processing Record 508 of Set 1| westport\n",
      "Processing Record 509 of Set 1| kuminskiy\n",
      "Processing Record 510 of Set 1| brigantine\n",
      "Processing Record 511 of Set 1| saryshagan\n",
      "Processing Record 512 of Set 1| lerwick\n",
      "Processing Record 513 of Set 1| kenora\n",
      "Processing Record 514 of Set 1| ust-maya\n",
      "Processing Record 515 of Set 1| faya\n",
      "Processing Record 516 of Set 1| batagay-alyta\n",
      "Processing Record 517 of Set 1| pashiya\n",
      "Processing Record 518 of Set 1| margate\n",
      "Processing Record 519 of Set 1| naryan-mar\n",
      "Processing Record 520 of Set 1| katherine\n",
      "Processing Record 521 of Set 1| bima\n",
      "Processing Record 522 of Set 1| malakal\n",
      "Processing Record 523 of Set 1| uhlove\n",
      "Processing Record 524 of Set 1| muros\n",
      "Processing Record 525 of Set 1| coos bay\n",
      "Processing Record 526 of Set 1| houlton\n",
      "Processing Record 527 of Set 1| najran\n",
      "Processing Record 528 of Set 1| umzimvubu\n",
      "Processing Record 529 of Set 1| oranjemund\n",
      "Processing Record 530 of Set 1| fort walton beach\n",
      "Processing Record 531 of Set 1| flinders\n",
      "Processing Record 532 of Set 1| dalvik\n",
      "Processing Record 533 of Set 1| vostok\n",
      "Processing Record 534 of Set 1| auki\n",
      "Processing Record 535 of Set 1| sakaraha\n",
      "Processing Record 536 of Set 1| atar\n",
      "Processing Record 537 of Set 1| hihifo\n",
      "Processing Record 538 of Set 1| lekoni\n",
      "Processing Record 539 of Set 1| bolungarvik\n",
      "Processing Record 540 of Set 1| sataua\n",
      "Processing Record 541 of Set 1| grindavik\n",
      "Processing Record 542 of Set 1| kwakoa\n",
      "Processing Record 543 of Set 1| xining\n",
      "Processing Record 544 of Set 1| wajir\n",
      "Processing Record 545 of Set 1| severo-kurilsk\n",
      "Processing Record 546 of Set 1| vallenar\n",
      "Processing Record 547 of Set 1| itaituba\n",
      "Processing Record 548 of Set 1| wana\n",
      "Processing Record 549 of Set 1| rongcheng\n",
      "Processing Record 550 of Set 1| moose factory\n",
      "Processing Record 551 of Set 1| cayenne\n",
      "Processing Record 552 of Set 1| yeppoon\n",
      "Processing Record 553 of Set 1| seoul\n",
      "Processing Record 554 of Set 1| aksarka\n",
      "Processing Record 555 of Set 1| sheregesh\n",
      "Processing Record 556 of Set 1| atbasar\n",
      "Processing Record 557 of Set 1| khormuj\n",
      "Processing Record 558 of Set 1| colares\n",
      "Processing Record 559 of Set 1| nerchinsk\n",
      "Processing Record 560 of Set 1| caucaia\n",
      "Processing Record 561 of Set 1| piet retief\n",
      "Processing Record 562 of Set 1| tumannyy\n",
      "Processing Record 563 of Set 1| mangan\n",
      "Processing Record 564 of Set 1| zhigansk\n",
      "Processing Record 565 of Set 1| nanortalik\n",
      "Processing Record 566 of Set 1| nome\n",
      "Processing Record 567 of Set 1| ushtobe\n",
      "Processing Record 568 of Set 1| labuhan\n",
      "Processing Record 569 of Set 1| acaponeta\n",
      "Processing Record 570 of Set 1| la brea\n",
      "Processing Record 571 of Set 1| irbil\n",
      "Processing Record 572 of Set 1| sibu\n",
      "Processing Record 573 of Set 1| trelleborg\n",
      "Processing Record 574 of Set 1| college\n",
      "Processing Record 575 of Set 1| satitoa\n",
      "Processing Record 576 of Set 1| kiama\n",
      "Processing Record 577 of Set 1| vaitupu\n",
      "Processing Record 578 of Set 1| barillas\n",
      "Processing Record 579 of Set 1| homer\n",
      "Processing Record 580 of Set 1| plettenberg bay\n",
      "Processing Record 581 of Set 1| rio verde de mato grosso\n",
      "Processing Record 582 of Set 1| mirabela\n",
      "Processing Record 583 of Set 1| benghazi\n",
      "Processing Record 584 of Set 1| nantucket\n",
      "Processing Record 585 of Set 1| sao felix do xingu\n",
      "Processing Record 586 of Set 1| bismarck\n",
      "Processing Record 587 of Set 1| campo de criptana\n",
      "Processing Record 588 of Set 1| kindersley\n",
      "Processing Record 589 of Set 1| sakakah\n",
      "Processing Record 590 of Set 1| senno\n",
      "Processing Record 591 of Set 1| languyan\n",
      "Processing Record 592 of Set 1| tevaitoa\n",
      "Processing Record 593 of Set 1| nguiu\n",
      "Processing Record 594 of Set 1| muisne\n",
      "Processing Record 595 of Set 1| laguna\n",
      "Processing Record 596 of Set 1| xiongshi\n",
      "Processing Record 597 of Set 1| bafra\n",
      "Processing Record 598 of Set 1| rantepao\n"
     ]
    },
    {
     "name": "stdout",
     "output_type": "stream",
     "text": [
      "Processing Record 599 of Set 1| port-cartier\n",
      "Processing Record 600 of Set 1| chicama\n",
      "Processing Record 601 of Set 1| mikuni\n",
      "Processing Record 602 of Set 1| wuwei\n",
      "Processing Record 603 of Set 1| muroto\n",
      "Processing Record 604 of Set 1| mount isa\n",
      "Processing Record 605 of Set 1| xinzhi\n",
      "Processing Record 606 of Set 1| saiha\n",
      "Processing Record 607 of Set 1| chibombo\n",
      "Processing Record 608 of Set 1| payo\n",
      "Processing Record 609 of Set 1| mezhdurechensk\n",
      "Processing Record 610 of Set 1| tyazhinskiy\n",
      "Processing Record 611 of Set 1| envira\n",
      "Processing Record 612 of Set 1| kamina\n",
      "Processing Record 613 of Set 1| nhulunbuy\n",
      "Processing Record 614 of Set 1| pisco\n",
      "Processing Record 615 of Set 1| artyk\n",
      "Processing Record 616 of Set 1| tanout\n",
      "Processing Record 617 of Set 1| brokopondo\n",
      "Processing Record 618 of Set 1| erenhot\n",
      "Processing Record 619 of Set 1| boguchany\n",
      "Processing Record 620 of Set 1| turukhansk\n",
      "Processing Record 621 of Set 1| ocotal\n",
      "Processing Record 622 of Set 1| kaduna\n",
      "-----------------------------\n",
      "Data Retrieval Complete\n"
     ]
    }
   ],
   "source": [
    "#initializing columns for df\n",
    "lat = []\n",
    "lng = []\n",
    "maxTemp = []\n",
    "humidity = []\n",
    "cloudiness = []\n",
    "windSpeed = []\n",
    "country = []\n",
    "date = []\n",
    "\n",
    "cList = []\n",
    "\n",
    "#initializing counts for print statement \n",
    "r_count = 0\n",
    "s_count = 1\n",
    "\n",
    "\n",
    "url = \"http://api.openweathermap.org/data/2.5/weather?\"\n",
    "units = \"Imperial\"\n",
    "\n",
    "query_url = f\"{url}appid={weather_api_key}&units={units}&q=\"\n",
    "\n",
    "print(\"Beginning Data Retrieval\")\n",
    "print(\"-----------------------------\")\n",
    "\n",
    "for city in cities:\n",
    "    response_json = requests.get(query_url + city).json()\n",
    "    try:\n",
    "        r_count = r_count + 1\n",
    "        cList.append(response_json)\n",
    "        print(\"Processing Record \" + str(r_count) + \" of Set \" + str(s_count) + \"| \" + city)\n",
    "        time.sleep(.2)\n",
    "       \n",
    "    #if there's an error, print City not found\n",
    "    except:\n",
    "        s_count = s_count + 1\n",
    "        #print(\"City not found. Skipping...\")\n",
    "        pass\n",
    "    \n",
    "           \n",
    "print(\"-----------------------------\")\n",
    "print(\"Data Retrieval Complete\")"
   ]
  },
  {
   "cell_type": "code",
   "execution_count": null,
   "metadata": {},
   "outputs": [],
   "source": []
  },
  {
   "cell_type": "markdown",
   "metadata": {},
   "source": [
    "### Convert Raw Data to DataFrame\n",
    "* Export the city data into a .csv.\n",
    "* Display the DataFrame"
   ]
  },
  {
   "cell_type": "code",
   "execution_count": 4,
   "metadata": {},
   "outputs": [],
   "source": [
    "ct = []\n",
    "\n",
    "#loop from 0 to last city index and append each value pertaining to the column name\n",
    "for x in range(0, (len(cities)-1)):\n",
    "    try:\n",
    "        ct.append(cList[x][\"name\"]) \n",
    "        lat.append(cList[x][\"coord\"][\"lat\"])\n",
    "        lng.append(cList[x][\"coord\"][\"lon\"])\n",
    "        maxTemp.append(cList[x][\"main\"][\"temp_max\"])\n",
    "        humidity.append(cList[x][\"main\"][\"humidity\"])\n",
    "        cloudiness.append(cList[x][\"clouds\"][\"all\"])\n",
    "        windSpeed.append(cList[x][\"wind\"][\"speed\"])\n",
    "        country.append(cList[x][\"sys\"][\"country\"])\n",
    "        date.append(cList[x][\"dt\"])\n",
    "    except:\n",
    "        #print(\"No data supplied\")\n",
    "        pass"
   ]
  },
  {
   "cell_type": "code",
   "execution_count": 5,
   "metadata": {},
   "outputs": [
    {
     "name": "stdout",
     "output_type": "stream",
     "text": [
      "City: 562\n",
      "Lat:  562\n",
      "Lng:  562\n",
      "Max Temp:  562\n",
      "Humidity:  562\n",
      "Cloudiness:  562\n",
      "Wind Speed:  562\n",
      "Country:  562\n",
      "Date:  562\n"
     ]
    }
   ],
   "source": [
    "#print statements to check every column has the same amount of values\n",
    "print(\"City: \" + str(len(ct)))\n",
    "print(\"Lat:  \" + str(len(lat)))\n",
    "print(\"Lng:  \" + str(len(lng)))\n",
    "print(\"Max Temp:  \" + str(len(maxTemp)))\n",
    "print(\"Humidity:  \"+ str(len(humidity)))\n",
    "print(\"Cloudiness:  \"+ str(len(cloudiness)))\n",
    "print(\"Wind Speed:  \" + str(len(windSpeed)))\n",
    "print(\"Country:  \"+ str(len(country)))\n",
    "print(\"Date:  \" + str(len(date)))"
   ]
  },
  {
   "cell_type": "code",
   "execution_count": 6,
   "metadata": {},
   "outputs": [
    {
     "data": {
      "text/html": [
       "<div>\n",
       "<style scoped>\n",
       "    .dataframe tbody tr th:only-of-type {\n",
       "        vertical-align: middle;\n",
       "    }\n",
       "\n",
       "    .dataframe tbody tr th {\n",
       "        vertical-align: top;\n",
       "    }\n",
       "\n",
       "    .dataframe thead th {\n",
       "        text-align: right;\n",
       "    }\n",
       "</style>\n",
       "<table border=\"1\" class=\"dataframe\">\n",
       "  <thead>\n",
       "    <tr style=\"text-align: right;\">\n",
       "      <th></th>\n",
       "      <th>City</th>\n",
       "      <th>Lat</th>\n",
       "      <th>Lng</th>\n",
       "      <th>Max Temp</th>\n",
       "      <th>Humidity</th>\n",
       "      <th>Cloudiness</th>\n",
       "      <th>Wind Speed</th>\n",
       "      <th>Country</th>\n",
       "      <th>Date</th>\n",
       "    </tr>\n",
       "  </thead>\n",
       "  <tbody>\n",
       "  </tbody>\n",
       "</table>\n",
       "</div>"
      ],
      "text/plain": [
       "Empty DataFrame\n",
       "Columns: [City, Lat, Lng, Max Temp, Humidity, Cloudiness, Wind Speed, Country, Date]\n",
       "Index: []"
      ]
     },
     "execution_count": 6,
     "metadata": {},
     "output_type": "execute_result"
    }
   ],
   "source": [
    "#setting up summary table df by inserting values into a dictionary\n",
    "dict = {\"City\":ct, \"Lat\":lat, \"Lng\": lng, \"Max Temp\":maxTemp, \"Humidity\" : humidity, \"Cloudiness\": cloudiness, \"Wind Speed\": windSpeed, \"Country\": country, \"Date\": date}\n",
    "\n",
    "summary_df = pd.DataFrame(dict)\n",
    "\n",
    "#exporting summary table to a new csv for VacationPy\n",
    "summary_df.to_csv('citiesdata.csv')\n",
    "\n"
   ]
  },
  {
   "cell_type": "markdown",
   "metadata": {},
   "source": [
    "## Inspect the data and remove the cities where the humidity > 100%.\n",
    "----\n",
    "Skip this step if there are no cities that have humidity > 100%. "
   ]
  },
  {
   "cell_type": "code",
   "execution_count": null,
   "metadata": {},
   "outputs": [],
   "source": [
    "#checking if there are any cities that have humidity > 100%\n",
    "summary_df[summary_df[\"Humidity\"]>100]"
   ]
  },
  {
   "cell_type": "code",
   "execution_count": 7,
   "metadata": {},
   "outputs": [],
   "source": [
    "#  Get the indices of cities that have humidity over 100%.\n"
   ]
  },
  {
   "cell_type": "code",
   "execution_count": 8,
   "metadata": {},
   "outputs": [],
   "source": [
    "# Make a new DataFrame equal to the city data to drop all humidity outliers by index.\n",
    "# Passing \"inplace=False\" will make a copy of the city_data DataFrame, which we call \"clean_city_data\".\n"
   ]
  },
  {
   "cell_type": "code",
   "execution_count": 9,
   "metadata": {},
   "outputs": [],
   "source": [
    "# Extract relevant fields from the data frame\n",
    "\n",
    "\n",
    "# Export the City_Data into a csv\n"
   ]
  },
  {
   "cell_type": "markdown",
   "metadata": {},
   "source": [
    "## Plotting the Data\n",
    "* Use proper labeling of the plots using plot titles (including date of analysis) and axes labels.\n",
    "* Save the plotted figures as .pngs."
   ]
  },
  {
   "cell_type": "markdown",
   "metadata": {},
   "source": [
    "## Latitude vs. Temperature Plot"
   ]
  },
  {
   "cell_type": "code",
   "execution_count": 24,
   "metadata": {
    "scrolled": true
   },
   "outputs": [
    {
     "data": {
      "image/png": "[encoded data removed]",
      "text/plain": [
       "<Figure size 432x288 with 1 Axes>"
      ]
     },
     "metadata": {
      "needs_background": "light"
     },
     "output_type": "display_data"
    }
   ],
   "source": [
    "#plotting scatterplots using plt.scatter\n",
    "\n",
    "plt.scatter(summary_df[\"Lat\"], summary_df[\"Max Temp\"])\n",
    "plt.xlabel(\"Latitude\")\n",
    "plt.ylabel(\"Max Temperature\")\n",
    "plt.title(\"Latitude vs Max Temperature\")\n",
    "plt.savefig(\"p1.png\")"
   ]
  },
  {
   "cell_type": "markdown",
   "metadata": {},
   "source": [
    "## Latitude vs. Humidity Plot"
   ]
  },
  {
   "cell_type": "code",
   "execution_count": 25,
   "metadata": {},
   "outputs": [
    {
     "data": {
      "image/png": "[encoded data removed]",
      "text/plain": [
       "<Figure size 432x288 with 1 Axes>"
      ]
     },
     "metadata": {
      "needs_background": "light"
     },
     "output_type": "display_data"
    }
   ],
   "source": [
    "plt.scatter(summary_df[\"Lat\"], summary_df[\"Humidity\"])\n",
    "plt.xlabel(\"Latitude\")\n",
    "plt.ylabel(\"Humidity\")\n",
    "plt.title(\"Latitude vs Humidity\")\n",
    "plt.savefig(\"p2.png\")"
   ]
  },
  {
   "cell_type": "markdown",
   "metadata": {},
   "source": [
    "## Latitude vs. Cloudiness Plot"
   ]
  },
  {
   "cell_type": "code",
   "execution_count": 26,
   "metadata": {},
   "outputs": [
    {
     "data": {
      "image/png": "[encoded data removed]",
      "text/plain": [
       "<Figure size 432x288 with 1 Axes>"
      ]
     },
     "metadata": {
      "needs_background": "light"
     },
     "output_type": "display_data"
    }
   ],
   "source": [
    "plt.scatter(summary_df[\"Lat\"], summary_df[\"Cloudiness\"])\n",
    "plt.xlabel(\"Latitude\")\n",
    "plt.ylabel(\"Cloudiness\")\n",
    "plt.title(\"Latitude vs Cloudiness\")\n",
    "plt.savefig(\"p3.png\")"
   ]
  },
  {
   "cell_type": "markdown",
   "metadata": {},
   "source": [
    "## Latitude vs. Wind Speed Plot"
   ]
  },
  {
   "cell_type": "code",
   "execution_count": 27,
   "metadata": {},
   "outputs": [
    {
     "data": {
      "image/png": "[encoded data removed]",
      "text/plain": [
       "<Figure size 432x288 with 1 Axes>"
      ]
     },
     "metadata": {
      "needs_background": "light"
     },
     "output_type": "display_data"
    }
   ],
   "source": [
    "plt.scatter(summary_df[\"Lat\"], summary_df[\"Wind Speed\"])\n",
    "plt.xlabel(\"Latitude\")\n",
    "plt.ylabel(\"Wind Speed\")\n",
    "plt.title(\"Latitude vs Wind Speed\")\n",
    "plt.savefig(\"p4.png\")"
   ]
  },
  {
   "cell_type": "markdown",
   "metadata": {},
   "source": [
    "## Linear Regression"
   ]
  },
  {
   "cell_type": "code",
   "execution_count": 28,
   "metadata": {},
   "outputs": [],
   "source": [
    "# OPTIONAL: Create a function to create Linear Regression plots"
   ]
  },
  {
   "cell_type": "code",
   "execution_count": 29,
   "metadata": {},
   "outputs": [],
   "source": [
    "# Create Northern and Southern Hemisphere DataFrames\n",
    "northern = summary_df[summary_df[\"Lat\"] >= 0]\n",
    "southern = summary_df[summary_df[\"Lat\"] < 0]"
   ]
  },
  {
   "cell_type": "markdown",
   "metadata": {},
   "source": [
    "####  Northern Hemisphere - Max Temp vs. Latitude Linear Regression"
   ]
  },
  {
   "cell_type": "code",
   "execution_count": 30,
   "metadata": {},
   "outputs": [
    {
     "name": "stdout",
     "output_type": "stream",
     "text": [
      "The equation for the regression line is: y = -0.52x + 92.11\n",
      "The r-squared is 0.5333718403807657\n"
     ]
    },
    {
     "data": {
      "image/png": "[encoded data removed]",
      "text/plain": [
       "<Figure size 432x288 with 1 Axes>"
      ]
     },
     "metadata": {
      "needs_background": "light"
     },
     "output_type": "display_data"
    },
    {
     "data": {
      "text/plain": [
       "<Figure size 432x288 with 0 Axes>"
      ]
     },
     "metadata": {},
     "output_type": "display_data"
    }
   ],
   "source": [
    "plt.scatter(northern[\"Lat\"], northern[\"Max Temp\"])\n",
    "plt.xlabel(\"Latitude\")\n",
    "plt.ylabel(\"Max Temperature (F)\")\n",
    "plt.title(\"Northern Hemisphere Latitude vs Max Temp\")\n",
    "\n",
    "x_values = northern[\"Lat\"]\n",
    "y_values = northern[\"Max Temp\"]\n",
    "(slope, intercept, rvalue, pvalue, stderr) = linregress(x_values, y_values)\n",
    "regress_values = x_values * slope + intercept\n",
    "line_equation = \"y = \" + str(round(slope,2)) + \"x + \" + str(round(intercept,2))\n",
    "\n",
    "#plotting regression line\n",
    "plt.plot(x_values,regress_values,\"r-\")\n",
    "plt.annotate(line_equation,(6,10),fontsize=15,color=\"red\")\n",
    "\n",
    "print(\"The equation for the regression line is: \" + str(line_equation))\n",
    "#corr = st.pearsonr(northern[\"Lat\"],northern[\"Max Temp\"])\n",
    "#print(\"The correlation between average weight and average tumor volume is \" + str(corr[0]))\n",
    "\n",
    "print(\"The r-squared is \" + str(rvalue**2))\n",
    "\n",
    "plt.show()\n",
    "plt.savefig(\"p5.png\")"
   ]
  },
  {
   "cell_type": "markdown",
   "metadata": {},
   "source": [
    "####  Southern Hemisphere - Max Temp vs. Latitude Linear Regression"
   ]
  },
  {
   "cell_type": "code",
   "execution_count": 31,
   "metadata": {},
   "outputs": [
    {
     "name": "stdout",
     "output_type": "stream",
     "text": [
      "The equation for the regression line is: y = 0.83x + 82.61\n",
      "The r-squared is 0.6692150869413735\n"
     ]
    },
    {
     "data": {
      "image/png": "[encoded data removed]",
      "text/plain": [
       "<Figure size 432x288 with 1 Axes>"
      ]
     },
     "metadata": {
      "needs_background": "light"
     },
     "output_type": "display_data"
    },
    {
     "data": {
      "text/plain": [
       "<Figure size 432x288 with 0 Axes>"
      ]
     },
     "metadata": {},
     "output_type": "display_data"
    }
   ],
   "source": [
    "plt.scatter(southern[\"Lat\"], southern[\"Max Temp\"])\n",
    "plt.xlabel(\"Latitude\")\n",
    "plt.ylabel(\"Max Temperature (F)\")\n",
    "plt.title(\"Southern Hemisphere Latitude vs Max Temp\")\n",
    "\n",
    "x_values = southern[\"Lat\"]\n",
    "y_values = southern[\"Max Temp\"]\n",
    "(slope, intercept, rvalue, pvalue, stderr) = linregress(x_values, y_values)\n",
    "regress_values = x_values * slope + intercept\n",
    "line_equation = \"y = \" + str(round(slope,2)) + \"x + \" + str(round(intercept,2))\n",
    "\n",
    "#plotting regression line\n",
    "plt.plot(x_values,regress_values,\"r-\")\n",
    "plt.annotate(line_equation,(6,10),fontsize=15,color=\"red\")\n",
    "\n",
    "print(\"The equation for the regression line is: \" + str(line_equation))\n",
    "#corr = st.pearsonr(northern[\"Lat\"],northern[\"Max Temp\"])\n",
    "#print(\"The correlation between average weight and average tumor volume is \" + str(corr[0]))\n",
    "\n",
    "print(\"The r-squared is \" + str(rvalue**2))\n",
    "\n",
    "plt.show()\n",
    "plt.savefig(\"p6.png\")"
   ]
  },
  {
   "cell_type": "markdown",
   "metadata": {},
   "source": [
    "####  Northern Hemisphere - Humidity (%) vs. Latitude Linear Regression"
   ]
  },
  {
   "cell_type": "code",
   "execution_count": 32,
   "metadata": {},
   "outputs": [
    {
     "name": "stdout",
     "output_type": "stream",
     "text": [
      "The equation for the regression line is: y = 0.1x + 65.77\n",
      "The r-squared is 0.008430720619205948\n"
     ]
    },
    {
     "data": {
      "image/png": "[encoded data removed]",
      "text/plain": [
       "<Figure size 432x288 with 1 Axes>"
      ]
     },
     "metadata": {
      "needs_background": "light"
     },
     "output_type": "display_data"
    },
    {
     "data": {
      "text/plain": [
       "<Figure size 432x288 with 0 Axes>"
      ]
     },
     "metadata": {},
     "output_type": "display_data"
    }
   ],
   "source": [
    "plt.scatter(northern[\"Lat\"], northern[\"Humidity\"])\n",
    "plt.xlabel(\"Latitude\")\n",
    "plt.ylabel(\"Humidity (%)\")\n",
    "plt.title(\"Northern Hemisphere Latitude vs Humidity\")\n",
    "\n",
    "x_values = northern[\"Lat\"]\n",
    "y_values = northern[\"Humidity\"]\n",
    "(slope, intercept, rvalue, pvalue, stderr) = linregress(x_values, y_values)\n",
    "regress_values = x_values * slope + intercept\n",
    "line_equation = \"y = \" + str(round(slope,2)) + \"x + \" + str(round(intercept,2))\n",
    "\n",
    "#plotting regression line\n",
    "plt.plot(x_values,regress_values,\"r-\")\n",
    "plt.annotate(line_equation,(6,10),fontsize=15,color=\"red\")\n",
    "\n",
    "print(\"The equation for the regression line is: \" + str(line_equation))\n",
    "#corr = st.pearsonr(northern[\"Lat\"],northern[\"Max Temp\"])\n",
    "#print(\"The correlation between average weight and average tumor volume is \" + str(corr[0]))\n",
    "\n",
    "print(\"The r-squared is \" + str(rvalue**2))\n",
    "\n",
    "plt.show()\n",
    "plt.savefig(\"p7.png\")"
   ]
  },
  {
   "cell_type": "markdown",
   "metadata": {},
   "source": [
    "####  Southern Hemisphere - Humidity (%) vs. Latitude Linear Regression"
   ]
  },
  {
   "cell_type": "code",
   "execution_count": 33,
   "metadata": {},
   "outputs": [
    {
     "name": "stdout",
     "output_type": "stream",
     "text": [
      "The equation for the regression line is: y = 0.11x + 70.31\n",
      "The r-squared is 0.005094876966716402\n"
     ]
    },
    {
     "data": {
      "image/png": "[encoded data removed]",
      "text/plain": [
       "<Figure size 432x288 with 1 Axes>"
      ]
     },
     "metadata": {
      "needs_background": "light"
     },
     "output_type": "display_data"
    },
    {
     "data": {
      "text/plain": [
       "<Figure size 432x288 with 0 Axes>"
      ]
     },
     "metadata": {},
     "output_type": "display_data"
    }
   ],
   "source": [
    "plt.scatter(southern[\"Lat\"], southern[\"Humidity\"])\n",
    "plt.xlabel(\"Latitude\")\n",
    "plt.ylabel(\"Humidity (%)\")\n",
    "plt.title(\"Southern Hemisphere Latitude vs Humidity\")\n",
    "\n",
    "x_values = southern[\"Lat\"]\n",
    "y_values = southern[\"Humidity\"]\n",
    "(slope, intercept, rvalue, pvalue, stderr) = linregress(x_values, y_values)\n",
    "regress_values = x_values * slope + intercept\n",
    "line_equation = \"y = \" + str(round(slope,2)) + \"x + \" + str(round(intercept,2))\n",
    "\n",
    "#plotting regression line\n",
    "plt.plot(x_values,regress_values,\"r-\")\n",
    "plt.annotate(line_equation,(6,10),fontsize=15,color=\"red\")\n",
    "\n",
    "print(\"The equation for the regression line is: \" + str(line_equation))\n",
    "#corr = st.pearsonr(northern[\"Lat\"],northern[\"Max Temp\"])\n",
    "#print(\"The correlation between average weight and average tumor volume is \" + str(corr[0]))\n",
    "\n",
    "print(\"The r-squared is \" + str(rvalue**2))\n",
    "\n",
    "plt.show()\n",
    "plt.savefig(\"p8.png\")"
   ]
  },
  {
   "cell_type": "markdown",
   "metadata": {},
   "source": [
    "####  Northern Hemisphere - Cloudiness (%) vs. Latitude Linear Regression"
   ]
  },
  {
   "cell_type": "code",
   "execution_count": 34,
   "metadata": {},
   "outputs": [
    {
     "name": "stdout",
     "output_type": "stream",
     "text": [
      "The equation for the regression line is: y = -0.27x + 66.86\n",
      "The r-squared is 0.018396470959887747\n"
     ]
    },
    {
     "data": {
      "image/png": "[encoded data removed]",
      "text/plain": [
       "<Figure size 432x288 with 1 Axes>"
      ]
     },
     "metadata": {
      "needs_background": "light"
     },
     "output_type": "display_data"
    },
    {
     "data": {
      "text/plain": [
       "<Figure size 432x288 with 0 Axes>"
      ]
     },
     "metadata": {},
     "output_type": "display_data"
    }
   ],
   "source": [
    "plt.scatter(northern[\"Lat\"], northern[\"Cloudiness\"])\n",
    "plt.xlabel(\"Latitude\")\n",
    "plt.ylabel(\"Cloudiness (%)\")\n",
    "plt.title(\"Northern Hemisphere Latitude vs Cloudiness\")\n",
    "\n",
    "x_values = northern[\"Lat\"]\n",
    "y_values = northern[\"Cloudiness\"]\n",
    "(slope, intercept, rvalue, pvalue, stderr) = linregress(x_values, y_values)\n",
    "regress_values = x_values * slope + intercept\n",
    "line_equation = \"y = \" + str(round(slope,2)) + \"x + \" + str(round(intercept,2))\n",
    "\n",
    "#plotting regression line\n",
    "plt.plot(x_values,regress_values,\"r-\")\n",
    "plt.annotate(line_equation,(6,10),fontsize=15,color=\"red\")\n",
    "\n",
    "print(\"The equation for the regression line is: \" + str(line_equation))\n",
    "#corr = st.pearsonr(northern[\"Lat\"],northern[\"Max Temp\"])\n",
    "#print(\"The correlation between average weight and average tumor volume is \" + str(corr[0]))\n",
    "\n",
    "print(\"The r-squared is \" + str(rvalue**2))\n",
    "\n",
    "plt.show()\n",
    "plt.savefig(\"p9.png\")"
   ]
  },
  {
   "cell_type": "markdown",
   "metadata": {},
   "source": [
    "####  Southern Hemisphere - Cloudiness (%) vs. Latitude Linear Regression"
   ]
  },
  {
   "cell_type": "code",
   "execution_count": 35,
   "metadata": {},
   "outputs": [
    {
     "name": "stdout",
     "output_type": "stream",
     "text": [
      "The equation for the regression line is: y = 0.07x + 43.34\n",
      "The r-squared is 0.0005852575423053147\n"
     ]
    },
    {
     "data": {
      "image/png": "[encoded data removed]",
      "text/plain": [
       "<Figure size 432x288 with 1 Axes>"
      ]
     },
     "metadata": {
      "needs_background": "light"
     },
     "output_type": "display_data"
    },
    {
     "data": {
      "text/plain": [
       "<Figure size 432x288 with 0 Axes>"
      ]
     },
     "metadata": {},
     "output_type": "display_data"
    }
   ],
   "source": [
    "plt.scatter(southern[\"Lat\"], southern[\"Cloudiness\"])\n",
    "plt.xlabel(\"Latitude\")\n",
    "plt.ylabel(\"Cloudiness (%)\")\n",
    "plt.title(\"Southern Hemisphere Latitude vs Cloudiness\")\n",
    "\n",
    "x_values = southern[\"Lat\"]\n",
    "y_values = southern[\"Cloudiness\"]\n",
    "(slope, intercept, rvalue, pvalue, stderr) = linregress(x_values, y_values)\n",
    "regress_values = x_values * slope + intercept\n",
    "line_equation = \"y = \" + str(round(slope,2)) + \"x + \" + str(round(intercept,2))\n",
    "\n",
    "#plotting regression line\n",
    "plt.plot(x_values,regress_values,\"r-\")\n",
    "plt.annotate(line_equation,(6,10),fontsize=15,color=\"red\")\n",
    "\n",
    "print(\"The equation for the regression line is: \" + str(line_equation))\n",
    "#corr = st.pearsonr(northern[\"Lat\"],northern[\"Max Temp\"])\n",
    "#print(\"The correlation between average weight and average tumor volume is \" + str(corr[0]))\n",
    "\n",
    "print(\"The r-squared is \" + str(rvalue**2))\n",
    "\n",
    "plt.show()\n",
    "plt.savefig(\"p10.png\")"
   ]
  },
  {
   "cell_type": "markdown",
   "metadata": {},
   "source": [
    "####  Northern Hemisphere - Wind Speed (mph) vs. Latitude Linear Regression"
   ]
  },
  {
   "cell_type": "code",
   "execution_count": 36,
   "metadata": {},
   "outputs": [
    {
     "name": "stdout",
     "output_type": "stream",
     "text": [
      "The equation for the regression line is: y = -0.01x + 8.06\n",
      "The r-squared is 0.0024717159046539587\n"
     ]
    },
    {
     "data": {
      "image/png": "[encoded data removed]",
      "text/plain": [
       "<Figure size 432x288 with 1 Axes>"
      ]
     },
     "metadata": {
      "needs_background": "light"
     },
     "output_type": "display_data"
    },
    {
     "data": {
      "text/plain": [
       "<Figure size 432x288 with 0 Axes>"
      ]
     },
     "metadata": {},
     "output_type": "display_data"
    }
   ],
   "source": [
    "plt.scatter(northern[\"Lat\"], northern[\"Wind Speed\"])\n",
    "plt.xlabel(\"Latitude\")\n",
    "plt.ylabel(\"Wind Speed (mph)\")\n",
    "plt.title(\"Northern Hemisphere Latitude vs Wind Speed\")\n",
    "\n",
    "x_values = northern[\"Lat\"]\n",
    "y_values = northern[\"Wind Speed\"]\n",
    "(slope, intercept, rvalue, pvalue, stderr) = linregress(x_values, y_values)\n",
    "regress_values = x_values * slope + intercept\n",
    "line_equation = \"y = \" + str(round(slope,2)) + \"x + \" + str(round(intercept,2))\n",
    "\n",
    "#plotting regression line\n",
    "plt.plot(x_values,regress_values,\"r-\")\n",
    "plt.annotate(line_equation,(6,10),fontsize=15,color=\"red\")\n",
    "\n",
    "print(\"The equation for the regression line is: \" + str(line_equation))\n",
    "#corr = st.pearsonr(northern[\"Lat\"],northern[\"Max Temp\"])\n",
    "#print(\"The correlation between average weight and average tumor volume is \" + str(corr[0]))\n",
    "\n",
    "print(\"The r-squared is \" + str(rvalue**2))\n",
    "\n",
    "plt.show()\n",
    "plt.savefig(\"p11.png\")"
   ]
  },
  {
   "cell_type": "markdown",
   "metadata": {},
   "source": [
    "####  Southern Hemisphere - Wind Speed (mph) vs. Latitude Linear Regression"
   ]
  },
  {
   "cell_type": "code",
   "execution_count": 37,
   "metadata": {},
   "outputs": [
    {
     "name": "stdout",
     "output_type": "stream",
     "text": [
      "The equation for the regression line is: y = -0.06x + 7.83\n",
      "The r-squared is 0.016396605702305233\n"
     ]
    },
    {
     "data": {
      "image/png": "[encoded data removed]",
      "text/plain": [
       "<Figure size 432x288 with 1 Axes>"
      ]
     },
     "metadata": {
      "needs_background": "light"
     },
     "output_type": "display_data"
    },
    {
     "data": {
      "text/plain": [
       "<Figure size 432x288 with 0 Axes>"
      ]
     },
     "metadata": {},
     "output_type": "display_data"
    }
   ],
   "source": [
    "plt.scatter(southern[\"Lat\"], southern[\"Wind Speed\"])\n",
    "plt.xlabel(\"Latitude\")\n",
    "plt.ylabel(\"Wind Speed (mph)\")\n",
    "plt.title(\"Southern Hemisphere Latitude vs Wind Speed\")\n",
    "\n",
    "x_values = southern[\"Lat\"]\n",
    "y_values = southern[\"Wind Speed\"]\n",
    "(slope, intercept, rvalue, pvalue, stderr) = linregress(x_values, y_values)\n",
    "regress_values = x_values * slope + intercept\n",
    "line_equation = \"y = \" + str(round(slope,2)) + \"x + \" + str(round(intercept,2))\n",
    "\n",
    "#plotting regression line\n",
    "plt.plot(x_values,regress_values,\"r-\")\n",
    "plt.annotate(line_equation,(6,10),fontsize=15,color=\"red\")\n",
    "\n",
    "print(\"The equation for the regression line is: \" + str(line_equation))\n",
    "#corr = st.pearsonr(northern[\"Lat\"],northern[\"Max Temp\"])\n",
    "#print(\"The correlation between average weight and average tumor volume is \" + str(corr[0]))\n",
    "\n",
    "print(\"The r-squared is \" + str(rvalue**2))\n",
    "\n",
    "plt.show()\n",
    "plt.savefig(\"p12.png\")"
   ]
  },
  {
   "cell_type": "code",
   "execution_count": null,
   "metadata": {},
   "outputs": [],
   "source": []
  },
  {
   "cell_type": "code",
   "execution_count": null,
   "metadata": {},
   "outputs": [],
   "source": []
  },
  {
   "cell_type": "code",
   "execution_count": null,
   "metadata": {},
   "outputs": [],
   "source": []
  },
  {
   "cell_type": "code",
   "execution_count": null,
   "metadata": {},
   "outputs": [],
   "source": []
  }
 ],
 "metadata": {
  "anaconda-cloud": {},
  "kernel_info": {
   "name": "python3"
  },
  "kernelspec": {
   "display_name": "Python 3",
   "language": "python",
   "name": "python3"
  },
  "language_info": {
   "codemirror_mode": {
    "name": "ipython",
    "version": 3
   },
   "file_extension": ".py",
   "mimetype": "text/x-python",
   "name": "python",
   "nbconvert_exporter": "python",
   "pygments_lexer": "ipython3",
   "version": "3.7.6"
  },
  "latex_envs": {
   "LaTeX_envs_menu_present": true,
   "autoclose": false,
   "autocomplete": true,
   "bibliofile": "biblio.bib",
   "cite_by": "apalike",
   "current_citInitial": 1,
   "eqLabelWithNumbers": true,
   "eqNumInitial": 1,
   "hotkeys": {
    "equation": "Ctrl-E",
    "itemize": "Ctrl-I"
   },
   "labels_anchors": false,
   "latex_user_defs": false,
   "report_style_numbering": false,
   "user_envs_cfg": false
  },
  "nteract": {
   "version": "0.12.3"
  }
 },
 "nbformat": 4,
 "nbformat_minor": 2
}
